{
 "cells": [
  {
   "cell_type": "code",
   "execution_count": 1,
   "metadata": {},
   "outputs": [
    {
     "name": "stdout",
     "output_type": "stream",
     "text": [
      "Le solde du compte bancaire de Duchmol est de 950 euros.\n",
      "Le solde du compte bancaire de Dupont est de 1025 euros.\n"
     ]
    }
   ],
   "source": [
    "class CompteBancaire:\n",
    "    \n",
    "    def __init__(self, nom = 'Dupont', somme = 1000):\n",
    "        self.nom = nom\n",
    "        self.somme = somme\n",
    "        \n",
    "    def depot(self, s):\n",
    "        self.somme += s\n",
    "        \n",
    "    def retrait(self, s):\n",
    "        self.somme -= s\n",
    "        \n",
    "    def affiche(self):\n",
    "        print(\"Le solde du compte bancaire de \" + str(self.nom) + \" est de \" + str(self.somme) + \" euros.\")\n",
    "\n",
    "compte1 = CompteBancaire('Duchmol', 800)\n",
    "compte1.depot(350)\n",
    "compte1.retrait(200)\n",
    "compte1.affiche()\n",
    "\n",
    "compte2 = CompteBancaire()\n",
    "compte2.depot(25)\n",
    "compte2.affiche()\n"
   ]
  },
  {
   "cell_type": "code",
   "execution_count": 12,
   "metadata": {},
   "outputs": [
    {
     "name": "stdout",
     "output_type": "stream",
     "text": [
      "P(2.00 ,3.00)\n",
      "P(1.00 ,-5.00 ,6.00)\n"
     ]
    }
   ],
   "source": [
    "class Point:\n",
    "    def __init__(self, p1, p2, p3=None):\n",
    "        self.p1 = p1\n",
    "        self.p2 = p2\n",
    "        self.p3 = p3\n",
    "        \n",
    "    def ToString(self):\n",
    "        \n",
    "        if self.p3==None: print(\"P(\" + str(format(self.p1,'.2f')) + \" ,\" + str(format(self.p2,'.2f')) + \")\" )\n",
    "        else: print(\"P(\" + str(format(self.p1,'.2f')) + \" ,\" + str(format(self.p2,'.2f')) + \" ,\" + str(format(self.p3,'.2f')) + \")\" )\n",
    "        \n",
    "P1=Point(2,3)\n",
    "P1.ToString()\n",
    "P2=Point(1,-5,6)\n",
    "P2.ToString()        \n",
    "    "
   ]
  },
  {
   "cell_type": "code",
   "execution_count": null,
   "metadata": {},
   "outputs": [],
   "source": []
  }
 ],
 "metadata": {
  "kernelspec": {
   "display_name": "Python 3",
   "language": "python",
   "name": "python3"
  },
  "language_info": {
   "codemirror_mode": {
    "name": "ipython",
    "version": 3
   },
   "file_extension": ".py",
   "mimetype": "text/x-python",
   "name": "python",
   "nbconvert_exporter": "python",
   "pygments_lexer": "ipython3",
   "version": "3.7.3"
  }
 },
 "nbformat": 4,
 "nbformat_minor": 4
}
