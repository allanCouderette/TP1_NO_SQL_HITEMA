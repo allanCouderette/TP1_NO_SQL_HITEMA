{
 "cells": [
  {
   "cell_type": "code",
   "execution_count": 1,
   "metadata": {},
   "outputs": [
    {
     "name": "stdout",
     "output_type": "stream",
     "text": [
      "Le solde du compte bancaire de Duchmol est de 950 euros.\n",
      "Le solde du compte bancaire de Dupont est de 1025 euros.\n"
     ]
    }
   ],
   "source": [
    "class CompteBancaire:\n",
    "    \n",
    "    def __init__(self, nom = 'Dupont', somme = 1000):\n",
    "        self.nom = nom\n",
    "        self.somme = somme\n",
    "        \n",
    "    def depot(self, s):\n",
    "        self.somme += s\n",
    "        \n",
    "    def retrait(self, s):\n",
    "        self.somme -= s\n",
    "        \n",
    "    def affiche(self):\n",
    "        print(\"Le solde du compte bancaire de \" + str(self.nom) + \" est de \" + str(self.somme) + \" euros.\")\n",
    "\n",
    "compte1 = CompteBancaire('Duchmol', 800)\n",
    "compte1.depot(350)\n",
    "compte1.retrait(200)\n",
    "compte1.affiche()\n",
    "\n",
    "compte2 = CompteBancaire()\n",
    "compte2.depot(25)\n",
    "compte2.affiche()\n"
   ]
  },
  {
   "cell_type": "code",
   "execution_count": 12,
   "metadata": {},
   "outputs": [
    {
     "name": "stdout",
     "output_type": "stream",
     "text": [
      "P(2.00 ,3.00)\n",
      "P(1.00 ,-5.00 ,6.00)\n"
     ]
    }
   ],
   "source": [
    "class Point:\n",
    "    def __init__(self, p1, p2, p3=None):\n",
    "        self.p1 = p1\n",
    "        self.p2 = p2\n",
    "        self.p3 = p3\n",
    "        \n",
    "    def ToString(self):\n",
    "        if self.p3==None: print(\"P(\" + str(format(self.p1,'.2f')) + \" ,\" + str(format(self.p2,'.2f')) + \")\" )\n",
    "        else: print(\"P(\" + str(format(self.p1,'.2f')) + \" ,\" + str(format(self.p2,'.2f')) + \" ,\" + str(format(self.p3,'.2f')) + \")\" )\n",
    "        \n",
    "P1=Point(2,3)\n",
    "P1.ToString()\n",
    "P2=Point(1,-5,6)\n",
    "P2.ToString()        \n",
    "    "
   ]
  },
  {
   "cell_type": "code",
   "execution_count": 44,
   "metadata": {},
   "outputs": [
    {
     "name": "stdout",
     "output_type": "stream",
     "text": [
      "Nom :Ilyass\n",
      "Prénom: Math\n",
      "Date de naissance: 01 / 07 / 1982\n",
      "Nom :Ilyass\n",
      "Prénom: Math\n",
      "Date de naissance: 01 / 07 / 1985\n",
      "Salaire: 7865.55\n",
      "Nom :Ilyass\n",
      "Prénom: Math\n",
      "Date de naissance: 01 / 07 / 1988\n",
      "Salaire: 7865.55\n",
      "Service : Ressource humaine\n"
     ]
    }
   ],
   "source": [
    "class DateNaissance:\n",
    "    \n",
    "    def __init__(self, jour, mois, annee):\n",
    "        self.jour = jour\n",
    "        self.mois = mois\n",
    "        self.annee = annee\n",
    "        \n",
    "    def ToString(self):\n",
    "        return str(\"{:02}\".format(self.jour)) + \" / \" + str(\"{:02}\".format(self.mois)) + \" / \" + str(\"{:04}\".format(self.annee))\n",
    "        \n",
    "class personne:\n",
    "    def __init__(self, nom, prenom, date_naissance):\n",
    "        self.nom = nom\n",
    "        self.prenom = prenom\n",
    "        self.date_naissance = date_naissance\n",
    "        \n",
    "    def afficher(self):\n",
    "        print(\"Nom :\" + self.nom + \"\\nPrénom: \" + self.prenom + \"\\nDate de naissance: \" + self.date_naissance.ToString())\n",
    "\n",
    "class employe:\n",
    "    def __init__(self, nom, prenom, date_naissance, salaire):\n",
    "        personne.__init__(self,nom,prenom,date_naissance)\n",
    "        self.salaire = salaire\n",
    "        \n",
    "    def afficher(self):\n",
    "        personne.afficher(self)\n",
    "        print(\"Salaire: \" + str(format(self.salaire,'.2f')))\n",
    "        \n",
    "class chef:\n",
    "    def __init__(self, nom, prenom, date_naissance, salaire, metier):\n",
    "        employe.__init__(self,nom,prenom,date_naissance,salaire)\n",
    "        self.metier = metier\n",
    "        \n",
    "    def afficher(self):\n",
    "        employe.afficher(self)\n",
    "        print(\"Service : \" + self.metier)\n",
    "        \n",
    "        \n",
    "        \n",
    "        \n",
    "P=personne(\"Ilyass\",\"Math\",DateNaissance(1,7,1982))\n",
    "P.afficher()\n",
    "\n",
    "E=employe(\"Ilyass\",\"Math\",DateNaissance(1,7,1985),7865.548)\n",
    "E.afficher()\n",
    "\n",
    "Ch=chef(\"Ilyass\",\"Math\",DateNaissance(1,7,1988),7865.548,\"Ressource humaine\")\n",
    "Ch.afficher()"
   ]
  },
  {
   "cell_type": "code",
   "execution_count": 31,
   "metadata": {},
   "outputs": [
    {
     "name": "stdout",
     "output_type": "stream",
     "text": [
      "Adresse destination: Lille\n",
      "Adresse expedition: Paris\n",
      "Poids: 80 grammes\n",
      "Mode: normal\n",
      "Format: A4\n",
      "Prix du timbre: 82.5\n",
      "Adresse destination: Marrakeche\n",
      "Adresse expedition: Barcelone\n",
      "Poids: 3500 grammes\n",
      "Mode: expresse\n",
      "Volume: 2.25 litres\n",
      "Prix du timbres: 7001.125\n"
     ]
    }
   ],
   "source": [
    "class Courrier:\n",
    "    def __init__(self, arrive, depart, poids, mode):\n",
    "        self.arrive = arrive\n",
    "        self.depart = depart\n",
    "        self.poids = poids\n",
    "        self.mode = mode\n",
    "        \n",
    "    def ToString(self):\n",
    "        print(\"Adresse destination: \" + str(self.arrive) + \"\\nAdresse expedition: \" + str(self.depart) + \"\\nPoids: \" + str(self.poids) + \" grammes\\nMode: \" + str(self.mode))\n",
    "\n",
    "class Lettre:\n",
    "    def __init__(self, arrive, depart, poids, mode, formatLettre):\n",
    "        Courrier.__init__(self, arrive, depart, poids, mode)\n",
    "        self.formatLettre = formatLettre\n",
    "        \n",
    "    def calculTimbre(self):\n",
    "        \n",
    "        \"'total = 2.50 * self.poids * 0.001'\"\n",
    "        \n",
    "        if self.formatLettre==\"A4\": total = 2.50 + self.poids\n",
    "        elif self.formatLettre==\"A3\":total = 3.50 + self.poids\n",
    "            \n",
    "        if self.mode == \"expresse\": total*=2\n",
    "            \n",
    "        return total\n",
    "    \n",
    "    def ToString(self):\n",
    "        Courrier.ToString(self)\n",
    "        print(\"Format: \" + str(self.formatLettre) + \"\\nPrix du timbre: \" + str(self.calculTimbre()))\n",
    "        \n",
    "        \n",
    "class Colis:\n",
    "    def __init__(self, arrive, depart, poids, mode, volume):\n",
    "        Courrier.__init__(self, arrive, depart, poids, mode)\n",
    "        self.volume = volume\n",
    "    \n",
    "    def calculTimbre(self):   \n",
    "        \n",
    "        \"'0.25 * self.volume * self.poids'\"\n",
    "        \n",
    "        total = 0.25*self.volume+self.poids\n",
    "        \n",
    "        if self.mode == \"expresse\": total*=2\n",
    "            \n",
    "        return total\n",
    "    \n",
    "    def ToString(self):\n",
    "        Courrier.ToString(self)\n",
    "        print(\"Volume: \" + str(self.volume) + \" litres\\nPrix du timbres: \" + str(self.calculTimbre()))\n",
    "        \n",
    "L1=Lettre(\"Lille\",\"Paris\",80,\"normal\",\"A4\")\n",
    "L1.ToString()\n",
    "\n",
    "C1=Colis(\"Marrakeche\",\"Barcelone\",3500,\"expresse\",2.25)\n",
    "C1.ToString()\n",
    "\n",
    "        \n",
    "        "
   ]
  },
  {
   "cell_type": "code",
   "execution_count": null,
   "metadata": {},
   "outputs": [],
   "source": []
  }
 ],
 "metadata": {
  "kernelspec": {
   "display_name": "Python 3",
   "language": "python",
   "name": "python3"
  },
  "language_info": {
   "codemirror_mode": {
    "name": "ipython",
    "version": 3
   },
   "file_extension": ".py",
   "mimetype": "text/x-python",
   "name": "python",
   "nbconvert_exporter": "python",
   "pygments_lexer": "ipython3",
   "version": "3.7.3"
  }
 },
 "nbformat": 4,
 "nbformat_minor": 4
}
